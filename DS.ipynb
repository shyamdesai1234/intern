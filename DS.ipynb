{
  "nbformat": 4,
  "nbformat_minor": 0,
  "metadata": {
    "colab": {
      "provenance": []
    },
    "kernelspec": {
      "name": "python3",
      "display_name": "Python 3"
    },
    "language_info": {
      "name": "python"
    }
  },
  "cells": [
    {
      "cell_type": "code",
      "source": [
        "import pandas as pd\n",
        "file_path = \"movies.csv\"\n",
        "df = pd.read_csv(file_path)\n",
        "shape = df.shape\n",
        "print(\"Shape of 'movies.csv':\", shape)\n"
      ],
      "metadata": {
        "colab": {
          "base_uri": "https://localhost:8080/"
        },
        "id": "fN9VDc8m6dEd",
        "outputId": "d5b753ef-3c06-471f-ea33-f1db5836d3f9"
      },
      "execution_count": 23,
      "outputs": [
        {
          "output_type": "stream",
          "name": "stdout",
          "text": [
            "Shape of 'movies.csv': (9742, 3)\n"
          ]
        }
      ]
    },
    {
      "cell_type": "code",
      "source": [
        "import pandas as pd\n",
        "file_path = \"ratings.csv\"\n",
        "df = pd.read_csv(file_path)\n",
        "shape = df.shape\n",
        "print(\"Shape of 'ratings.csv':\", shape)\n"
      ],
      "metadata": {
        "colab": {
          "base_uri": "https://localhost:8080/"
        },
        "id": "K5yxTKUP-Dtq",
        "outputId": "59bebadb-eecb-402a-89d0-38d32f24ed4c"
      },
      "execution_count": 24,
      "outputs": [
        {
          "output_type": "stream",
          "name": "stdout",
          "text": [
            "Shape of 'ratings.csv': (100836, 4)\n"
          ]
        }
      ]
    },
    {
      "cell_type": "code",
      "source": [
        "import pandas as pd\n",
        "file_path = \"ratings.csv\"\n",
        "df = pd.read_csv(file_path)\n",
        "unique_user_ids = df['userId'].nunique()\n",
        "print(\"Number of unique userId values in 'ratings.csv':\", unique_user_ids)\n"
      ],
      "metadata": {
        "colab": {
          "base_uri": "https://localhost:8080/"
        },
        "id": "dCQGWQAq-Rri",
        "outputId": "67214e31-9dc6-44ae-bf7d-be6c4cb5f090"
      },
      "execution_count": 25,
      "outputs": [
        {
          "output_type": "stream",
          "name": "stdout",
          "text": [
            "Number of unique userId values in 'ratings.csv': 610\n"
          ]
        }
      ]
    },
    {
      "cell_type": "code",
      "source": [
        "import pandas as pd\n",
        "\n",
        "ratings_path = \"ratings.csv\"\n",
        "movies_path = \"movies.csv\"\n",
        "\n",
        "ratings_df = pd.read_csv(ratings_path)\n",
        "movies_df = pd.read_csv(movies_path)\n",
        "\n",
        "merged_df = pd.merge(ratings_df, movies_df, on='movieId')\n",
        "\n",
        "movie_ratings_count = merged_df.groupby('title')['rating'].count()\n",
        "\n",
        "max_rated_movie = movie_ratings_count.idxmax()\n",
        "\n",
        "# Print the result\n",
        "print(\"Movie with the maximum number of user ratings:\", max_rated_movie)\n"
      ],
      "metadata": {
        "colab": {
          "base_uri": "https://localhost:8080/"
        },
        "id": "svKVLDMh-oSA",
        "outputId": "6b9264da-4cc0-4a8b-a484-826d84d14241"
      },
      "execution_count": 26,
      "outputs": [
        {
          "output_type": "stream",
          "name": "stdout",
          "text": [
            "Movie with the maximum number of user ratings: Forrest Gump (1994)\n"
          ]
        }
      ]
    },
    {
      "cell_type": "code",
      "source": [
        "import pandas as pd\n",
        "\n",
        "tags_file_path = \"tags.csv\"\n",
        "\n",
        "tags_df = pd.read_csv(tags_file_path)\n",
        "\n",
        "matrix_tags = tags_df[tags_df['movieId'].isin(movies_df[movies_df['title'] == 'Matrix, The (1999)']['movieId'])]\n",
        "\n",
        "print(\"Tags for 'Matrix, The (1999)':\")\n",
        "print(matrix_tags['tag'].unique())\n"
      ],
      "metadata": {
        "colab": {
          "base_uri": "https://localhost:8080/"
        },
        "id": "1WGnvR4W_G5t",
        "outputId": "969381d3-1e1b-4d19-8d0e-837f2df3fd1c"
      },
      "execution_count": 27,
      "outputs": [
        {
          "output_type": "stream",
          "name": "stdout",
          "text": [
            "Tags for 'Matrix, The (1999)':\n",
            "['martial arts' 'sci-fi' 'alternate universe' 'philosophy'\n",
            " 'post apocalyptic']\n"
          ]
        }
      ]
    },
    {
      "cell_type": "code",
      "source": [
        "import pandas as pd\n",
        "\n",
        "ratings = pd.read_csv(\"ratings.csv\")\n",
        "movies = pd.read_csv(\"movies.csv\")\n",
        "\n",
        "terminator_movie_id = movies[movies['title'] == 'Terminator 2: Judgment Day (1991)']['movieId'].values[0]\n",
        "\n",
        "terminator_ratings = ratings[ratings['movieId'] == terminator_movie_id]\n",
        "\n",
        "average_rating = terminator_ratings['rating'].mean()\n",
        "\n",
        "print(\"Average rating for 'Terminator 2: Judgment Day (1991)':\", average_rating)\n"
      ],
      "metadata": {
        "colab": {
          "base_uri": "https://localhost:8080/"
        },
        "id": "I4jYS2-1_cn0",
        "outputId": "6a5826f3-ff06-4e41-8f2a-b340f7c5eecf"
      },
      "execution_count": 31,
      "outputs": [
        {
          "output_type": "stream",
          "name": "stdout",
          "text": [
            "Average rating for 'Terminator 2: Judgment Day (1991)': 3.970982142857143\n"
          ]
        }
      ]
    },
    {
      "cell_type": "code",
      "source": [
        "import pandas as pd\n",
        "import matplotlib.pyplot as plt\n",
        "\n",
        "ratings = pd.read_csv(\"ratings.csv\")\n",
        "movies = pd.read_csv(\"movies.csv\")\n",
        "\n",
        "fight_club_id = movies[movies['title'] == 'Fight Club (1999)']['movieId'].values[0]\n",
        "\n",
        "fight_club_ratings = ratings[ratings['movieId'] == fight_club_id]\n",
        "\n",
        "plt.hist(fight_club_ratings['rating'], bins=5, edgecolor='black')\n",
        "plt.title(\"'Fight Club (1999)'\")\n",
        "plt.xlabel(\"Rating\")\n",
        "plt.ylabel(\"Number of Ratings\")\n",
        "plt.show()\n"
      ],
      "metadata": {
        "colab": {
          "base_uri": "https://localhost:8080/",
          "height": 472
        },
        "id": "mdTFCvLJAWMu",
        "outputId": "37575331-d60e-4d76-b855-f153ff91daa9"
      },
      "execution_count": 34,
      "outputs": [
        {
          "output_type": "display_data",
          "data": {
            "text/plain": [
              "<Figure size 640x480 with 1 Axes>"
            ],
            "image/png": "[encoded data removed]"
          },
          "metadata": {}
        }
      ]
    },
    {
      "cell_type": "code",
      "source": [
        "import pandas as pd\n",
        "\n",
        "ratings = pd.read_csv(\"ratings.csv\")\n",
        "movies = pd.read_csv(\"movies.csv\")\n",
        "\n",
        "movie_ratings_stats = ratings.groupby('movieId')['rating'].agg(['count', 'mean'])\n",
        "\n",
        "merged_data = pd.merge(movies, movie_ratings_stats, left_on='movieId', right_index=True)\n",
        "\n",
        "# Filter movies with more than 50 user ratings\n",
        "popular_movies = merged_data[merged_data['count'] > 50]\n",
        "\n",
        "# Find the movie with the highest average rating\n",
        "most_popular_movie = popular_movies.loc[popular_movies['mean'].idxmax()]\n",
        "\n",
        "print(\"The most popular movie based on average user ratings is:\", most_popular_movie['title'])"
      ],
      "metadata": {
        "colab": {
          "base_uri": "https://localhost:8080/"
        },
        "id": "AlVEtzCAA9_N",
        "outputId": "dc84fbc0-3775-4aff-cdfa-3e2d4d7e8e37"
      },
      "execution_count": 42,
      "outputs": [
        {
          "output_type": "stream",
          "name": "stdout",
          "text": [
            "The most popular movie based on average user ratings is: Shawshank Redemption, The (1994)\n"
          ]
        }
      ]
    },
    {
      "cell_type": "code",
      "source": [
        "import pandas as pd\n",
        "\n",
        "ratings = pd.read_csv(\"ratings.csv\")\n",
        "movies = pd.read_csv(\"movies.csv\")\n",
        "\n",
        "ratings_count = ratings.groupby('movieId')['rating'].count()\n",
        "merged_data = pd.merge(movies, ratings_count, left_on='movieId', right_index=True, suffixes=('_movies', '_ratings'))\n",
        "popular_movies = merged_data[merged_data['rating'] > 50]\n",
        "top_5_movies = popular_movies.nlargest(5, 'rating')\n",
        "\n",
        "print(\"Top 5 popular movies based on the number of user ratings:\")\n",
        "print(top_5_movies['title'])\n"
      ],
      "metadata": {
        "colab": {
          "base_uri": "https://localhost:8080/"
        },
        "id": "cHUXCz3eDQ39",
        "outputId": "584812c7-1f0d-4023-e5b0-760eece2bfe0"
      },
      "execution_count": 46,
      "outputs": [
        {
          "output_type": "stream",
          "name": "stdout",
          "text": [
            "Top 5 popular movies based on the number of user ratings:\n",
            "314                  Forrest Gump (1994)\n",
            "277     Shawshank Redemption, The (1994)\n",
            "257                  Pulp Fiction (1994)\n",
            "510     Silence of the Lambs, The (1991)\n",
            "1939                  Matrix, The (1999)\n",
            "Name: title, dtype: object\n"
          ]
        }
      ]
    },
    {
      "cell_type": "code",
      "source": [
        "import pandas as pd\n",
        "\n",
        "ratings = pd.read_csv(\"ratings.csv\")\n",
        "movies = pd.read_csv(\"movies.csv\")\n",
        "\n",
        "ratings_count = ratings.groupby('movieId')['rating'].count()\n",
        "merged_data = pd.merge(movies, ratings_count, left_on='movieId', right_index=True, suffixes=('_movies', '_ratings'))\n",
        "\n",
        "sci_fi_movies = merged_data[merged_data['genres'].str.contains('Sci-Fi')]\n",
        "\n",
        "third_most_popular_sci_fi_movie = sci_fi_movies.nlargest(3, 'rating')['title'].iloc[-1]\n",
        "\n",
        "print(\"The third most popular Sci-Fi movie based on the number of user ratings is:\", third_most_popular_sci_fi_movie)\n"
      ],
      "metadata": {
        "colab": {
          "base_uri": "https://localhost:8080/"
        },
        "id": "bPRR_PG4Eyai",
        "outputId": "9fa9e91b-406f-415b-9912-8b9b4a7c4875"
      },
      "execution_count": 48,
      "outputs": [
        {
          "output_type": "stream",
          "name": "stdout",
          "text": [
            "The third most popular Sci-Fi movie based on the number of user ratings is: Jurassic Park (1993)\n"
          ]
        }
      ]
    },
    {
      "cell_type": "code",
      "source": [
        "import pandas as pd\n",
        "links_df = pd.read_csv(\"links.csv\")\n",
        "highest_imdb_movie_id = links_df.loc[links_df['imdbId'].idxmax()]['movieId']\n",
        "\n",
        "print(\"The movieId of the movie with the highest IMDB rating is:\", highest_imdb_movie_id)\n"
      ],
      "metadata": {
        "colab": {
          "base_uri": "https://localhost:8080/"
        },
        "id": "cemcSXKwFMNA",
        "outputId": "c6959d37-e752-4f85-8747-a750e48c46f8"
      },
      "execution_count": 49,
      "outputs": [
        {
          "output_type": "stream",
          "name": "stdout",
          "text": [
            "The movieId of the movie with the highest IMDB rating is: 193587.0\n"
          ]
        }
      ]
    },
    {
      "cell_type": "code",
      "source": [
        "import pandas as pd\n",
        "\n",
        "links_path = \"links.csv\"\n",
        "movies_path = \"movies.csv\"\n",
        "\n",
        "links = pd.read_csv(links_path)\n",
        "movies = pd.read_csv(movies_path)\n",
        "\n",
        "merged_data = pd.merge(links, movies, on='movieId')\n",
        "\n",
        "sci_fi_movies = merged_data[merged_data['genres'].str.contains('Sci-Fi', case=False, na=False)]\n",
        "\n",
        "highest_imdb_sci_fi_movie_id = sci_fi_movies.loc[sci_fi_movies['imdbId'].idxmax()]['movieId']\n",
        "\n",
        "print(\"The movieId of the Sci-Fi movie with the highest IMDB rating is:\", highest_imdb_sci_fi_movie_id)\n"
      ],
      "metadata": {
        "colab": {
          "base_uri": "https://localhost:8080/"
        },
        "id": "Dm8CBagjF1e5",
        "outputId": "b1290696-6eac-477e-b829-eb3fb9b37f38"
      },
      "execution_count": 53,
      "outputs": [
        {
          "output_type": "stream",
          "name": "stdout",
          "text": [
            "The movieId of the Sci-Fi movie with the highest IMDB rating is: 179053\n"
          ]
        }
      ]
    }
  ]
}